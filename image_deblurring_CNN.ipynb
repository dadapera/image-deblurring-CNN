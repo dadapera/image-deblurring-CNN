{
  "cells": [
    {
      "cell_type": "code",
      "execution_count": 1,
      "id": "c27f5ae8",
      "metadata": {
        "id": "c27f5ae8"
      },
      "outputs": [],
      "source": [
        "import tensorflow as tf \n",
        "import random\n",
        "from cv2 import GaussianBlur\n",
        "import numpy as np\n",
        "import torch\n",
        "import torch.nn as nn\n",
        "import torch.nn.functional as F\n",
        "import torch.optim as optim\n",
        "from torchvision.transforms import transforms\n",
        "from tqdm import tqdm\n",
        "import time\n",
        "import os\n",
        "\n",
        "def getDataset():\n",
        "  (x_train, _), (x_test, _) = tf.keras.datasets.cifar10.load_data()\n",
        "  normalize = lambda x: x/x.max()\n",
        "  x_train = normalize(x_train)\n",
        "  x_test = normalize(x_test)\n",
        "  createBlurred = lambda arr: np.array([GaussianBlur(x, (5,5), ((random.random()*3)+1)) + (0.02*np.random.normal(0,1, (32, 32, 3))) for x in arr])\n",
        "  return (createBlurred(x_train), x_train), (createBlurred(x_test), x_test)"
      ]
    },
    {
      "cell_type": "code",
      "execution_count": 2,
      "id": "2b6b270f",
      "metadata": {
        "colab": {
          "base_uri": "https://localhost:8080/"
        },
        "id": "2b6b270f",
        "outputId": "8e9840f2-746b-45f7-9bcc-658c360952bd"
      },
      "outputs": [
        {
          "output_type": "stream",
          "name": "stdout",
          "text": [
            "cuda:0\n"
          ]
        }
      ],
      "source": [
        "def save_decoded_image(img, name):\n",
        "    img = img.view(img.size(0), 3, 224, 224)\n",
        "    save_image(img, name)\n",
        "    \n",
        "# helper functions\n",
        "image_dir = '../outputs/saved_images'\n",
        "os.makedirs(image_dir, exist_ok=True)\n",
        "device = 'cuda:0' if torch.cuda.is_available() else 'cpu'\n",
        "print(device)\n",
        "\n",
        "batch_size = 2\n",
        "epochs = 40\n"
      ]
    },
    {
      "cell_type": "code",
      "execution_count": 3,
      "id": "4a47160e",
      "metadata": {
        "id": "4a47160e"
      },
      "outputs": [],
      "source": [
        "dataset = getDataset()"
      ]
    },
    {
      "cell_type": "code",
      "source": [
        "from sklearn.model_selection import train_test_split\n",
        "random_state=42\n",
        "\n",
        "x_train = dataset[0][0]\n",
        "y_train = dataset[0][1]\n",
        "\n",
        "x_test = dataset[1][0]\n",
        "y_test = dataset[1][1]\n",
        "\n",
        "x_train, x_val, y_train, y_val = train_test_split(x_train, y_train, test_size=0.2, random_state=random_state)\n",
        "\n",
        "print(f\"Train data instances: {len(x_train)}\")\n",
        "print(f\"Validation data instances: {len(x_val)}\")\n",
        "print(f\"Test data instances: {len(x_test)}\")"
      ],
      "metadata": {
        "colab": {
          "base_uri": "https://localhost:8080/"
        },
        "id": "1_cURi8SO1BV",
        "outputId": "e84e2863-2657-406c-a363-8241645a0c18"
      },
      "id": "1_cURi8SO1BV",
      "execution_count": 4,
      "outputs": [
        {
          "output_type": "stream",
          "name": "stdout",
          "text": [
            "Train data instances: 40000\n",
            "Validation data instances: 10000\n",
            "Test data instances: 10000\n"
          ]
        }
      ]
    },
    {
      "cell_type": "code",
      "execution_count": 5,
      "id": "a5f828f6",
      "metadata": {
        "colab": {
          "base_uri": "https://localhost:8080/",
          "height": 373
        },
        "id": "a5f828f6",
        "outputId": "35cbbd6b-ed6b-4276-c396-f888f43a7a88"
      },
      "outputs": [
        {
          "output_type": "stream",
          "name": "stderr",
          "text": [
            "WARNING:matplotlib.image:Clipping input data to the valid range for imshow with RGB data ([0..1] for floats or [0..255] for integers).\n"
          ]
        },
        {
          "output_type": "display_data",
          "data": {
            "text/plain": [
              "<Figure size 1080x360 with 2 Axes>"
            ],
            "image/png": "[encoded data removed]"
          },
          "metadata": {
            "needs_background": "light"
          }
        }
      ],
      "source": [
        "import matplotlib.pyplot as plt\n",
        "\n",
        "# Choose an image from the test set\n",
        "idx = np.random.randint(0, len(x_test))\n",
        "x = x_test[idx]\n",
        "y = y_test[idx]\n",
        "\n",
        "# Plot the masked input and generated output\n",
        "f, ax = plt.subplots(1, 2, figsize=(15, 5))\n",
        "ax[0].imshow(x)\n",
        "ax[0].set_title('Blurred image')\n",
        "ax[1].imshow(y)\n",
        "ax[1].set_title('Original Image')\n",
        "plt.show()"
      ]
    },
    {
      "cell_type": "code",
      "execution_count": 6,
      "id": "4f57c699",
      "metadata": {
        "id": "4f57c699",
        "outputId": "b0afb496-24e7-4bca-8bfc-696c586ae1c7",
        "colab": {
          "base_uri": "https://localhost:8080/"
        }
      },
      "outputs": [
        {
          "output_type": "stream",
          "name": "stdout",
          "text": [
            "Model: \"sequential\"\n",
            "_________________________________________________________________\n",
            " Layer (type)                Output Shape              Param #   \n",
            "=================================================================\n",
            " conv2d (Conv2D)             (None, 32, 32, 32)        896       \n",
            "                                                                 \n",
            " max_pooling2d (MaxPooling2D  (None, 16, 16, 32)       0         \n",
            " )                                                               \n",
            "                                                                 \n",
            " conv2d_1 (Conv2D)           (None, 16, 16, 64)        18496     \n",
            "                                                                 \n",
            " max_pooling2d_1 (MaxPooling  (None, 8, 8, 64)         0         \n",
            " 2D)                                                             \n",
            "                                                                 \n",
            " conv2d_2 (Conv2D)           (None, 8, 8, 128)         73856     \n",
            "                                                                 \n",
            " up_sampling2d (UpSampling2D  (None, 16, 16, 128)      0         \n",
            " )                                                               \n",
            "                                                                 \n",
            " conv2d_3 (Conv2D)           (None, 16, 16, 64)        73792     \n",
            "                                                                 \n",
            " up_sampling2d_1 (UpSampling  (None, 32, 32, 64)       0         \n",
            " 2D)                                                             \n",
            "                                                                 \n",
            " conv2d_4 (Conv2D)           (None, 32, 32, 32)        18464     \n",
            "                                                                 \n",
            " conv2d_5 (Conv2D)           (None, 32, 32, 3)         867       \n",
            "                                                                 \n",
            "=================================================================\n",
            "Total params: 186,371\n",
            "Trainable params: 186,371\n",
            "Non-trainable params: 0\n",
            "_________________________________________________________________\n"
          ]
        }
      ],
      "source": [
        "import tensorflow as tf\n",
        "from tensorflow.keras import layers\n",
        "\n",
        "def build_model():\n",
        "    model = tf.keras.Sequential()\n",
        "    model.add(layers.Conv2D(32, (3, 3), activation='relu', padding='same', input_shape=(32, 32, 3)))\n",
        "    model.add(layers.MaxPooling2D((2, 2)))\n",
        "    model.add(layers.Conv2D(64, (3, 3), activation='relu', padding='same'))\n",
        "    model.add(layers.MaxPooling2D((2, 2)))\n",
        "    model.add(layers.Conv2D(128, (3, 3), activation='relu', padding='same'))\n",
        "    model.add(layers.UpSampling2D((2, 2)))\n",
        "    model.add(layers.Conv2D(64, (3, 3), activation='relu', padding='same'))\n",
        "    model.add(layers.UpSampling2D((2, 2)))\n",
        "    model.add(layers.Conv2D(32, (3, 3), activation='relu', padding='same'))\n",
        "    model.add(layers.Conv2D(3, (3, 3), activation='sigmoid', padding='same'))\n",
        "    return model\n",
        "\n",
        "model = build_model()\n",
        "model.compile(optimizer='adam', loss='mean_squared_error')\n",
        "model.summary()"
      ]
    },
    {
      "cell_type": "code",
      "source": [
        "batch_size=256\n",
        "epochs = 30\n",
        "\n",
        "model.fit(x_train, y_train, batch_size=batch_size, epochs=epochs, validation_data=(x_val, y_val) )"
      ],
      "metadata": {
        "colab": {
          "base_uri": "https://localhost:8080/"
        },
        "id": "NutjiPZ4TC9m",
        "outputId": "1d6419df-c8a1-4841-d709-d1bc2fb14474"
      },
      "id": "NutjiPZ4TC9m",
      "execution_count": 7,
      "outputs": [
        {
          "output_type": "stream",
          "name": "stdout",
          "text": [
            "Epoch 1/30\n",
            "157/157 [==============================] - 16s 44ms/step - loss: 0.0172 - val_loss: 0.0082\n",
            "Epoch 2/30\n",
            "157/157 [==============================] - 6s 38ms/step - loss: 0.0075 - val_loss: 0.0095\n",
            "Epoch 3/30\n",
            "157/157 [==============================] - 6s 37ms/step - loss: 0.0064 - val_loss: 0.0059\n",
            "Epoch 4/30\n",
            "157/157 [==============================] - 6s 38ms/step - loss: 0.0057 - val_loss: 0.0055\n",
            "Epoch 5/30\n",
            "157/157 [==============================] - 6s 37ms/step - loss: 0.0054 - val_loss: 0.0052\n",
            "Epoch 6/30\n",
            "157/157 [==============================] - 6s 37ms/step - loss: 0.0052 - val_loss: 0.0051\n",
            "Epoch 7/30\n",
            "157/157 [==============================] - 6s 37ms/step - loss: 0.0050 - val_loss: 0.0050\n",
            "Epoch 8/30\n",
            "157/157 [==============================] - 6s 37ms/step - loss: 0.0048 - val_loss: 0.0047\n",
            "Epoch 9/30\n",
            "157/157 [==============================] - 6s 37ms/step - loss: 0.0047 - val_loss: 0.0047\n",
            "Epoch 10/30\n",
            "157/157 [==============================] - 6s 37ms/step - loss: 0.0047 - val_loss: 0.0045\n",
            "Epoch 11/30\n",
            "157/157 [==============================] - 6s 37ms/step - loss: 0.0046 - val_loss: 0.0045\n",
            "Epoch 12/30\n",
            "157/157 [==============================] - 6s 36ms/step - loss: 0.0045 - val_loss: 0.0044\n",
            "Epoch 13/30\n",
            "157/157 [==============================] - 6s 39ms/step - loss: 0.0044 - val_loss: 0.0044\n",
            "Epoch 14/30\n",
            "157/157 [==============================] - 6s 36ms/step - loss: 0.0044 - val_loss: 0.0043\n",
            "Epoch 15/30\n",
            "157/157 [==============================] - 7s 43ms/step - loss: 0.0044 - val_loss: 0.0043\n",
            "Epoch 16/30\n",
            "157/157 [==============================] - 6s 39ms/step - loss: 0.0043 - val_loss: 0.0043\n",
            "Epoch 17/30\n",
            "157/157 [==============================] - 6s 38ms/step - loss: 0.0043 - val_loss: 0.0042\n",
            "Epoch 18/30\n",
            "157/157 [==============================] - 6s 37ms/step - loss: 0.0042 - val_loss: 0.0043\n",
            "Epoch 19/30\n",
            "157/157 [==============================] - 6s 37ms/step - loss: 0.0042 - val_loss: 0.0041\n",
            "Epoch 20/30\n",
            "157/157 [==============================] - 6s 36ms/step - loss: 0.0042 - val_loss: 0.0043\n",
            "Epoch 21/30\n",
            "157/157 [==============================] - 6s 37ms/step - loss: 0.0041 - val_loss: 0.0041\n",
            "Epoch 22/30\n",
            "157/157 [==============================] - 6s 37ms/step - loss: 0.0041 - val_loss: 0.0040\n",
            "Epoch 23/30\n",
            "157/157 [==============================] - 6s 37ms/step - loss: 0.0041 - val_loss: 0.0041\n",
            "Epoch 24/30\n",
            "157/157 [==============================] - 6s 37ms/step - loss: 0.0041 - val_loss: 0.0040\n",
            "Epoch 25/30\n",
            "157/157 [==============================] - 6s 37ms/step - loss: 0.0040 - val_loss: 0.0040\n",
            "Epoch 26/30\n",
            "157/157 [==============================] - 6s 38ms/step - loss: 0.0041 - val_loss: 0.0040\n",
            "Epoch 27/30\n",
            "157/157 [==============================] - 6s 38ms/step - loss: 0.0040 - val_loss: 0.0041\n",
            "Epoch 28/30\n",
            "157/157 [==============================] - 6s 36ms/step - loss: 0.0040 - val_loss: 0.0040\n",
            "Epoch 29/30\n",
            "157/157 [==============================] - 6s 37ms/step - loss: 0.0039 - val_loss: 0.0039\n",
            "Epoch 30/30\n",
            "157/157 [==============================] - 6s 38ms/step - loss: 0.0039 - val_loss: 0.0040\n"
          ]
        },
        {
          "output_type": "execute_result",
          "data": {
            "text/plain": [
              "<keras.callbacks.History at 0x7f42204e1d90>"
            ]
          },
          "metadata": {},
          "execution_count": 7
        }
      ]
    },
    {
      "cell_type": "code",
      "source": [
        "history = model.history\n",
        "\n",
        "fig, ax = plt.subplots(figsize=(12, 6))\n",
        "ax.plot(history.history['loss'], label='Training Loss')\n",
        "ax.plot(history.history['val_loss'], label='Validation Loss')\n",
        "ax.legend()\n",
        "ax.set_xlabel('Epochs')\n",
        "ax.set_ylabel('Loss')\n",
        "plt.show()"
      ],
      "metadata": {
        "colab": {
          "base_uri": "https://localhost:8080/",
          "height": 388
        },
        "id": "A7_PVgBZQArI",
        "outputId": "87bb979d-b48c-48e6-aa4c-1b462e2a6395"
      },
      "id": "A7_PVgBZQArI",
      "execution_count": 8,
      "outputs": [
        {
          "output_type": "display_data",
          "data": {
            "text/plain": [
              "<Figure size 864x432 with 1 Axes>"
            ],
            "image/png": "[encoded data removed]"
          },
          "metadata": {
            "needs_background": "light"
          }
        }
      ]
    },
    {
      "cell_type": "code",
      "source": [
        "# Evaluate the model on the test data\n",
        "test_loss = model.evaluate(x_test, y_test)\n",
        "print('Test loss:', test_loss)"
      ],
      "metadata": {
        "colab": {
          "base_uri": "https://localhost:8080/"
        },
        "id": "STl3VzcKLlCh",
        "outputId": "de1cd354-b12c-489f-9688-c4db331ca878"
      },
      "id": "STl3VzcKLlCh",
      "execution_count": 9,
      "outputs": [
        {
          "output_type": "stream",
          "name": "stdout",
          "text": [
            "313/313 [==============================] - 1s 4ms/step - loss: 0.0040\n",
            "Test loss: 0.003992822486907244\n"
          ]
        }
      ]
    },
    {
      "cell_type": "code",
      "source": [
        "import matplotlib.pyplot as plt\n",
        "\n",
        "# Choose a random image from the test set\n",
        "idx = np.random.randint(0, len(x_test))\n",
        "blur_img = x_test[idx]\n",
        "orig_img = y_test[idx]\n",
        "\n",
        "# Predict the deblurred image using the model\n",
        "deblurred_img = model.predict(np.expand_dims(blur_img, axis=0))[0]\n",
        "\n",
        "# Plot the blurred input, deblurred output, and original image\n",
        "f, ax = plt.subplots(1, 3, figsize=(15, 5))\n",
        "ax[0].imshow(blur_img)\n",
        "ax[0].set_title('Blurred Image')\n",
        "ax[1].imshow(deblurred_img)\n",
        "ax[1].set_title('Deblurred Image')\n",
        "ax[2].imshow(orig_img)\n",
        "ax[2].set_title('Original Image')\n",
        "plt.show()\n"
      ],
      "metadata": {
        "colab": {
          "base_uri": "https://localhost:8080/",
          "height": 324
        },
        "id": "f9Kg37JiMvMu",
        "outputId": "f4d5a0be-419c-46a6-d075-0c777f594361"
      },
      "id": "f9Kg37JiMvMu",
      "execution_count": 71,
      "outputs": [
        {
          "output_type": "stream",
          "name": "stdout",
          "text": [
            "1/1 [==============================] - 0s 20ms/step\n"
          ]
        },
        {
          "output_type": "display_data",
          "data": {
            "text/plain": [
              "<Figure size 1080x360 with 3 Axes>"
            ],
            "image/png": "[encoded data removed]"
          },
          "metadata": {
            "needs_background": "light"
          }
        }
      ]
    }
  ],
  "metadata": {
    "kernelspec": {
      "display_name": "Python 3 (ipykernel)",
      "language": "python",
      "name": "python3"
    },
    "language_info": {
      "codemirror_mode": {
        "name": "ipython",
        "version": 3
      },
      "file_extension": ".py",
      "mimetype": "text/x-python",
      "name": "python",
      "nbconvert_exporter": "python",
      "pygments_lexer": "ipython3",
      "version": "3.9.12"
    },
    "colab": {
      "provenance": []
    },
    "accelerator": "GPU",
    "gpuClass": "standard"
  },
  "nbformat": 4,
  "nbformat_minor": 5
}